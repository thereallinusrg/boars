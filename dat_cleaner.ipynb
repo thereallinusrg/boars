{
 "metadata": {
  "language_info": {
   "codemirror_mode": {
    "name": "ipython",
    "version": 3
   },
   "file_extension": ".py",
   "mimetype": "text/x-python",
   "name": "python",
   "nbconvert_exporter": "python",
   "pygments_lexer": "ipython3",
   "version": "3.9.5-final"
  },
  "orig_nbformat": 2,
  "kernelspec": {
   "name": "python39264bit530807e3b97f4ec7af2f3175f7531938",
   "display_name": "Python 3.9.2 64-bit"
  }
 },
 "nbformat": 4,
 "nbformat_minor": 2,
 "cells": [
  {
   "cell_type": "code",
   "execution_count": 19,
   "metadata": {},
   "outputs": [],
   "source": [
    "import geopandas as gpd\n",
    "from shapely.geometry import Point"
   ]
  },
  {
   "cell_type": "code",
   "execution_count": 12,
   "metadata": {},
   "outputs": [],
   "source": [
    "gdf = gpd.read_file('boars.csv')\n",
    "gdf.crs = 'epsg:2056'"
   ]
  },
  {
   "cell_type": "code",
   "execution_count": 25,
   "metadata": {},
   "outputs": [
    {
     "output_type": "execute_result",
     "data": {
      "text/plain": [
       "       TierID TierName CollarID          DatetimeUTC                 E  \\\n",
       "0           1     Ueli    12272  2014-05-28 21:01:14  2570389.88785193   \n",
       "1           1     Ueli    12272  2014-05-28 21:15:18  2570388.66972115   \n",
       "2           1     Ueli    12272  2014-05-28 21:30:13  2570390.51722456   \n",
       "3           1     Ueli    12272  2014-05-28 21:45:11  2570387.68677463   \n",
       "4           1     Ueli    12272  2014-05-28 22:00:33  2570388.16231999   \n",
       "...       ...      ...      ...                  ...               ...   \n",
       "327250     84     Gaby    12274  2016-10-17 12:15:08  2569446.79285511   \n",
       "327251     84     Gaby    12274  2016-10-17 13:15:08  2569446.54200186   \n",
       "327252     84     Gaby    12274  2016-10-17 14:15:08   2569448.7699334   \n",
       "327253     84     Gaby    12274  2016-10-17 15:15:08  2569446.79982101   \n",
       "327254     84     Gaby    12274  2016-10-17 16:15:16  2569448.77695595   \n",
       "\n",
       "                       N                         geometry  \n",
       "0       1204820.18061379  POINT (2570389.888 1204820.181)  \n",
       "1       1204826.07884577  POINT (2570388.670 1204826.079)  \n",
       "2       1204821.31144589  POINT (2570390.517 1204821.311)  \n",
       "3       1204825.73910209  POINT (2570387.687 1204825.739)  \n",
       "4       1204818.88847828  POINT (2570388.162 1204818.888)  \n",
       "...                  ...                              ...  \n",
       "327250  1205628.75337682  POINT (2569446.793 1205628.753)  \n",
       "327251  1205627.29829577  POINT (2569446.542 1205627.298)  \n",
       "327252  1205627.19791475  POINT (2569448.770 1205627.198)  \n",
       "327253  1205630.10965458  POINT (2569446.800 1205630.110)  \n",
       "327254  1205628.56530954  POINT (2569448.777 1205628.565)  \n",
       "\n",
       "[327255 rows x 7 columns]"
      ],
      "text/html": "<div>\n<style scoped>\n    .dataframe tbody tr th:only-of-type {\n        vertical-align: middle;\n    }\n\n    .dataframe tbody tr th {\n        vertical-align: top;\n    }\n\n    .dataframe thead th {\n        text-align: right;\n    }\n</style>\n<table border=\"1\" class=\"dataframe\">\n  <thead>\n    <tr style=\"text-align: right;\">\n      <th></th>\n      <th>TierID</th>\n      <th>TierName</th>\n      <th>CollarID</th>\n      <th>DatetimeUTC</th>\n      <th>E</th>\n      <th>N</th>\n      <th>geometry</th>\n    </tr>\n  </thead>\n  <tbody>\n    <tr>\n      <th>0</th>\n      <td>1</td>\n      <td>Ueli</td>\n      <td>12272</td>\n      <td>2014-05-28 21:01:14</td>\n      <td>2570389.88785193</td>\n      <td>1204820.18061379</td>\n      <td>POINT (2570389.888 1204820.181)</td>\n    </tr>\n    <tr>\n      <th>1</th>\n      <td>1</td>\n      <td>Ueli</td>\n      <td>12272</td>\n      <td>2014-05-28 21:15:18</td>\n      <td>2570388.66972115</td>\n      <td>1204826.07884577</td>\n      <td>POINT (2570388.670 1204826.079)</td>\n    </tr>\n    <tr>\n      <th>2</th>\n      <td>1</td>\n      <td>Ueli</td>\n      <td>12272</td>\n      <td>2014-05-28 21:30:13</td>\n      <td>2570390.51722456</td>\n      <td>1204821.31144589</td>\n      <td>POINT (2570390.517 1204821.311)</td>\n    </tr>\n    <tr>\n      <th>3</th>\n      <td>1</td>\n      <td>Ueli</td>\n      <td>12272</td>\n      <td>2014-05-28 21:45:11</td>\n      <td>2570387.68677463</td>\n      <td>1204825.73910209</td>\n      <td>POINT (2570387.687 1204825.739)</td>\n    </tr>\n    <tr>\n      <th>4</th>\n      <td>1</td>\n      <td>Ueli</td>\n      <td>12272</td>\n      <td>2014-05-28 22:00:33</td>\n      <td>2570388.16231999</td>\n      <td>1204818.88847828</td>\n      <td>POINT (2570388.162 1204818.888)</td>\n    </tr>\n    <tr>\n      <th>...</th>\n      <td>...</td>\n      <td>...</td>\n      <td>...</td>\n      <td>...</td>\n      <td>...</td>\n      <td>...</td>\n      <td>...</td>\n    </tr>\n    <tr>\n      <th>327250</th>\n      <td>84</td>\n      <td>Gaby</td>\n      <td>12274</td>\n      <td>2016-10-17 12:15:08</td>\n      <td>2569446.79285511</td>\n      <td>1205628.75337682</td>\n      <td>POINT (2569446.793 1205628.753)</td>\n    </tr>\n    <tr>\n      <th>327251</th>\n      <td>84</td>\n      <td>Gaby</td>\n      <td>12274</td>\n      <td>2016-10-17 13:15:08</td>\n      <td>2569446.54200186</td>\n      <td>1205627.29829577</td>\n      <td>POINT (2569446.542 1205627.298)</td>\n    </tr>\n    <tr>\n      <th>327252</th>\n      <td>84</td>\n      <td>Gaby</td>\n      <td>12274</td>\n      <td>2016-10-17 14:15:08</td>\n      <td>2569448.7699334</td>\n      <td>1205627.19791475</td>\n      <td>POINT (2569448.770 1205627.198)</td>\n    </tr>\n    <tr>\n      <th>327253</th>\n      <td>84</td>\n      <td>Gaby</td>\n      <td>12274</td>\n      <td>2016-10-17 15:15:08</td>\n      <td>2569446.79982101</td>\n      <td>1205630.10965458</td>\n      <td>POINT (2569446.800 1205630.110)</td>\n    </tr>\n    <tr>\n      <th>327254</th>\n      <td>84</td>\n      <td>Gaby</td>\n      <td>12274</td>\n      <td>2016-10-17 16:15:16</td>\n      <td>2569448.77695595</td>\n      <td>1205628.56530954</td>\n      <td>POINT (2569448.777 1205628.565)</td>\n    </tr>\n  </tbody>\n</table>\n<p>327255 rows × 7 columns</p>\n</div>"
     },
     "metadata": {},
     "execution_count": 25
    }
   ],
   "source": [
    "gdf = gpd.GeoDataFrame(\n",
    "    gdf, geometry=gpd.points_from_xy(gdf.E, gdf.N))\n",
    "\n",
    "gdf"
   ]
  },
  {
   "cell_type": "code",
   "execution_count": 39,
   "metadata": {},
   "outputs": [
    {
     "output_type": "execute_result",
     "data": {
      "text/plain": [
       "      TierID TierName CollarID          DatetimeUTC                 E  \\\n",
       "0          1     Ueli    12272  2014-05-28 21:01:14  2570389.88785193   \n",
       "1          1     Ueli    12272  2014-05-28 21:15:18  2570388.66972115   \n",
       "2          1     Ueli    12272  2014-05-28 21:30:13  2570390.51722456   \n",
       "3          1     Ueli    12272  2014-05-28 21:45:11  2570387.68677463   \n",
       "4          1     Ueli    12272  2014-05-28 22:00:33  2570388.16231999   \n",
       "...      ...      ...      ...                  ...               ...   \n",
       "23909      1     Ueli    12844  2016-09-14 22:30:18   2573647.1746093   \n",
       "23910      1     Ueli    12844  2016-09-14 22:45:16  2573645.64026415   \n",
       "23911      1     Ueli    12844  2016-09-14 23:00:20  2573643.43255418   \n",
       "23912      1     Ueli    12844  2016-09-14 23:15:14  2573656.21776003   \n",
       "23913      1     Ueli    12844  2016-09-14 23:30:12  2573731.18889022   \n",
       "\n",
       "                      N                         geometry  \n",
       "0      1204820.18061379  POINT (2570389.888 1204820.181)  \n",
       "1      1204826.07884577  POINT (2570388.670 1204826.079)  \n",
       "2      1204821.31144589  POINT (2570390.517 1204821.311)  \n",
       "3      1204825.73910209  POINT (2570387.687 1204825.739)  \n",
       "4      1204818.88847828  POINT (2570388.162 1204818.888)  \n",
       "...                 ...                              ...  \n",
       "23909    1203170.754756  POINT (2573647.175 1203170.755)  \n",
       "23910  1203159.32191237  POINT (2573645.640 1203159.322)  \n",
       "23911  1203169.35944414  POINT (2573643.433 1203169.359)  \n",
       "23912  1203137.29627889  POINT (2573656.218 1203137.296)  \n",
       "23913  1203027.50442863  POINT (2573731.189 1203027.504)  \n",
       "\n",
       "[23914 rows x 7 columns]"
      ],
      "text/html": "<div>\n<style scoped>\n    .dataframe tbody tr th:only-of-type {\n        vertical-align: middle;\n    }\n\n    .dataframe tbody tr th {\n        vertical-align: top;\n    }\n\n    .dataframe thead th {\n        text-align: right;\n    }\n</style>\n<table border=\"1\" class=\"dataframe\">\n  <thead>\n    <tr style=\"text-align: right;\">\n      <th></th>\n      <th>TierID</th>\n      <th>TierName</th>\n      <th>CollarID</th>\n      <th>DatetimeUTC</th>\n      <th>E</th>\n      <th>N</th>\n      <th>geometry</th>\n    </tr>\n  </thead>\n  <tbody>\n    <tr>\n      <th>0</th>\n      <td>1</td>\n      <td>Ueli</td>\n      <td>12272</td>\n      <td>2014-05-28 21:01:14</td>\n      <td>2570389.88785193</td>\n      <td>1204820.18061379</td>\n      <td>POINT (2570389.888 1204820.181)</td>\n    </tr>\n    <tr>\n      <th>1</th>\n      <td>1</td>\n      <td>Ueli</td>\n      <td>12272</td>\n      <td>2014-05-28 21:15:18</td>\n      <td>2570388.66972115</td>\n      <td>1204826.07884577</td>\n      <td>POINT (2570388.670 1204826.079)</td>\n    </tr>\n    <tr>\n      <th>2</th>\n      <td>1</td>\n      <td>Ueli</td>\n      <td>12272</td>\n      <td>2014-05-28 21:30:13</td>\n      <td>2570390.51722456</td>\n      <td>1204821.31144589</td>\n      <td>POINT (2570390.517 1204821.311)</td>\n    </tr>\n    <tr>\n      <th>3</th>\n      <td>1</td>\n      <td>Ueli</td>\n      <td>12272</td>\n      <td>2014-05-28 21:45:11</td>\n      <td>2570387.68677463</td>\n      <td>1204825.73910209</td>\n      <td>POINT (2570387.687 1204825.739)</td>\n    </tr>\n    <tr>\n      <th>4</th>\n      <td>1</td>\n      <td>Ueli</td>\n      <td>12272</td>\n      <td>2014-05-28 22:00:33</td>\n      <td>2570388.16231999</td>\n      <td>1204818.88847828</td>\n      <td>POINT (2570388.162 1204818.888)</td>\n    </tr>\n    <tr>\n      <th>...</th>\n      <td>...</td>\n      <td>...</td>\n      <td>...</td>\n      <td>...</td>\n      <td>...</td>\n      <td>...</td>\n      <td>...</td>\n    </tr>\n    <tr>\n      <th>23909</th>\n      <td>1</td>\n      <td>Ueli</td>\n      <td>12844</td>\n      <td>2016-09-14 22:30:18</td>\n      <td>2573647.1746093</td>\n      <td>1203170.754756</td>\n      <td>POINT (2573647.175 1203170.755)</td>\n    </tr>\n    <tr>\n      <th>23910</th>\n      <td>1</td>\n      <td>Ueli</td>\n      <td>12844</td>\n      <td>2016-09-14 22:45:16</td>\n      <td>2573645.64026415</td>\n      <td>1203159.32191237</td>\n      <td>POINT (2573645.640 1203159.322)</td>\n    </tr>\n    <tr>\n      <th>23911</th>\n      <td>1</td>\n      <td>Ueli</td>\n      <td>12844</td>\n      <td>2016-09-14 23:00:20</td>\n      <td>2573643.43255418</td>\n      <td>1203169.35944414</td>\n      <td>POINT (2573643.433 1203169.359)</td>\n    </tr>\n    <tr>\n      <th>23912</th>\n      <td>1</td>\n      <td>Ueli</td>\n      <td>12844</td>\n      <td>2016-09-14 23:15:14</td>\n      <td>2573656.21776003</td>\n      <td>1203137.29627889</td>\n      <td>POINT (2573656.218 1203137.296)</td>\n    </tr>\n    <tr>\n      <th>23913</th>\n      <td>1</td>\n      <td>Ueli</td>\n      <td>12844</td>\n      <td>2016-09-14 23:30:12</td>\n      <td>2573731.18889022</td>\n      <td>1203027.50442863</td>\n      <td>POINT (2573731.189 1203027.504)</td>\n    </tr>\n  </tbody>\n</table>\n<p>23914 rows × 7 columns</p>\n</div>"
     },
     "metadata": {},
     "execution_count": 39
    }
   ],
   "source": [
    "Sau = gdf.TierName == \"Ueli\"\n",
    "gdf[Sau]"
   ]
  },
  {
   "cell_type": "code",
   "execution_count": 40,
   "metadata": {},
   "outputs": [],
   "source": [
    "for name in gdf.TierName.unique(): \n",
    "    Sau = gdf.TierName == f\"{name}\"\n",
    "    gdf[Sau].to_file(f'{name}.gpkg', driver='GPKG', layer=name)  "
   ]
  },
  {
   "cell_type": "code",
   "execution_count": null,
   "metadata": {},
   "outputs": [],
   "source": []
  }
 ]
}